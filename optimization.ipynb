{
 "cells": [
  {
   "cell_type": "code",
   "execution_count": 1,
   "metadata": {},
   "outputs": [],
   "source": [
    "import yfinance as yf\n",
    "import numpy as np\n",
    "import pandas as pd\n",
    "import statsmodels.api as sm\n",
    "import warnings\n",
    "\n",
    "from optimisation_markowitz import MarkowitzOptimization\n",
    "from optimisation_simm import SingleFactorModel, SingleFactorModelOptimization\n",
    "from utils import Utils\n",
    "\n",
    "warnings.filterwarnings(\"ignore\")\n",
    "\n",
    "%load_ext autoreload\n",
    "%autoreload 2"
   ]
  },
  {
   "cell_type": "code",
   "execution_count": 2,
   "metadata": {},
   "outputs": [],
   "source": [
    "start_date = \"2023-04-01\"\n",
    "end_date = \"2024-04-01\""
   ]
  },
  {
   "cell_type": "markdown",
   "metadata": {},
   "source": [
    "We will use S&P500 Information Technology Index as benchmark to evaluate the performance with Single Index Market Model and Constant Correlation Model. The return over four years will be used as the market return in the formula"
   ]
  },
  {
   "cell_type": "code",
   "execution_count": 6,
   "metadata": {},
   "outputs": [
    {
     "name": "stdout",
     "output_type": "stream",
     "text": [
      "[*********************100%%**********************]  1 of 1 completed\n",
      "Market Index Simple Return from 2023-04-01 - 2024-04-01 in %:  44.858555542505044\n",
      "Market Index Expected daily Return in %:  0.1563335685653037\n",
      "Market Index daily Variance in %:  0.013689625923552962\n"
     ]
    }
   ],
   "source": [
    "# Get close data for S&P 500 Information Technology Index\n",
    "market_index_data = Utils.get_historical_data(\"^SP500-45\", start_date, end_date)\n",
    "\n",
    "# calculate simple return for market index\n",
    "market_index_simple_return = Utils.calculate_simple_return(market_index_data)\n",
    "\n",
    "# calculate daily market data returns.\n",
    "# use that to calculate expected returns and variance\n",
    "market_index_daily_returns = Utils.calculate_daily_returns(market_index_data)\n",
    "market_index_data_expected_return = market_index_daily_returns.mean()\n",
    "market_index_data_variance = market_index_daily_returns.var()\n",
    "\n",
    "print(f\"Market Index Simple Return from {start_date} - {end_date} in %: \", market_index_simple_return * 100)\n",
    "print(\"Market Index Expected daily Return in %: \", market_index_data_expected_return * 100)\n",
    "print(\"Market Index daily Variance in %: \", market_index_data_variance * 100)"
   ]
  },
  {
   "cell_type": "markdown",
   "metadata": {},
   "source": [
    "For markowitz model, we will use 3-Month US Treasury Bill as risk-free rate. Since we are holding the portfolio for 1 year, we will take the last value as the risk-free rate."
   ]
  },
  {
   "cell_type": "code",
   "execution_count": 7,
   "metadata": {},
   "outputs": [
    {
     "name": "stdout",
     "output_type": "stream",
     "text": [
      "[*********************100%%**********************]  1 of 1 completed\n"
     ]
    },
    {
     "data": {
      "text/plain": [
       "0.05203000068664551"
      ]
     },
     "execution_count": 7,
     "metadata": {},
     "output_type": "execute_result"
    }
   ],
   "source": [
    "risk_free_rate_df = yf.download(\"^IRX\", start=\"2023-04-01\", end=\"2024-04-01\")\n",
    "risk_free_rate = risk_free_rate_df['Adj Close'].iloc[-1] / 100\n",
    "risk_free_rate"
   ]
  },
  {
   "cell_type": "markdown",
   "metadata": {},
   "source": [
    "We will now download the data for US Technology Equity ETFs on which we will run our strategies. We will use the following top 5 ETFs based on total assets:\n",
    "1. Vanguard Information Technology ETF (VGT)\n",
    "2. Technology Select Sector SPDR Fund (XLK)\n",
    "3. VanEck Semiconductor ETF (SMH)\n",
    "4. iShares US Technology ETF (IYW)\n",
    "5. iShares Semiconductor ETF (SOXX)\n",
    "\n",
    "Source: https://etfdb.com/etfdb-category/technology-equities/ "
   ]
  },
  {
   "cell_type": "code",
   "execution_count": 8,
   "metadata": {},
   "outputs": [
    {
     "name": "stdout",
     "output_type": "stream",
     "text": [
      "[*********************100%%**********************]  1 of 1 completed\n"
     ]
    }
   ],
   "source": [
    "# get the data for VanGuard Information Technology ETF\n",
    "vgt_data = Utils.get_historical_data(\"VGT\", start_date, end_date)"
   ]
  },
  {
   "cell_type": "code",
   "execution_count": 9,
   "metadata": {},
   "outputs": [
    {
     "name": "stdout",
     "output_type": "stream",
     "text": [
      "[*********************100%%**********************]  1 of 1 completed\n"
     ]
    }
   ],
   "source": [
    "# get the data for Technology Select Sector SPDR Fund\n",
    "xlk_data = Utils.get_historical_data(\"XLK\", start_date, end_date)"
   ]
  },
  {
   "cell_type": "code",
   "execution_count": 10,
   "metadata": {},
   "outputs": [
    {
     "name": "stdout",
     "output_type": "stream",
     "text": [
      "[*********************100%%**********************]  1 of 1 completed\n"
     ]
    }
   ],
   "source": [
    "# get the data for VanEck Semiconductor ETF\n",
    "smh_data = Utils.get_historical_data(\"SMH\", start_date, end_date)"
   ]
  },
  {
   "cell_type": "code",
   "execution_count": 11,
   "metadata": {},
   "outputs": [
    {
     "name": "stdout",
     "output_type": "stream",
     "text": [
      "[*********************100%%**********************]  1 of 1 completed\n"
     ]
    }
   ],
   "source": [
    "# get the data for iShares US Technology ETF\n",
    "iyt_data = Utils.get_historical_data(\"IYW\", start_date, end_date)"
   ]
  },
  {
   "cell_type": "code",
   "execution_count": 12,
   "metadata": {},
   "outputs": [
    {
     "name": "stdout",
     "output_type": "stream",
     "text": [
      "[*********************100%%**********************]  1 of 1 completed\n"
     ]
    }
   ],
   "source": [
    "# get the data for iShares Semiconductor ETF\n",
    "soxx_data = Utils.get_historical_data(\"SOXX\", start_date, end_date)"
   ]
  },
  {
   "cell_type": "code",
   "execution_count": 13,
   "metadata": {},
   "outputs": [
    {
     "name": "stdout",
     "output_type": "stream",
     "text": [
      "Adj Close        0\n",
      "simple_return    0\n",
      "dtype: int64\n",
      "Adj Close    0\n",
      "dtype: int64\n",
      "Adj Close    0\n",
      "dtype: int64\n",
      "Adj Close    0\n",
      "dtype: int64\n",
      "Adj Close    0\n",
      "dtype: int64\n",
      "Adj Close    0\n",
      "dtype: int64\n"
     ]
    }
   ],
   "source": [
    "# check for any missing data\n",
    "print(market_index_data.isnull().sum())\n",
    "print(vgt_data.isnull().sum())\n",
    "print(xlk_data.isnull().sum())\n",
    "print(smh_data.isnull().sum())\n",
    "print(iyt_data.isnull().sum())\n",
    "print(soxx_data.isnull().sum())"
   ]
  },
  {
   "cell_type": "code",
   "execution_count": 16,
   "metadata": {},
   "outputs": [
    {
     "name": "stdout",
     "output_type": "stream",
     "text": [
      "VGT -> Simple Return from 2023-04-01 - 2024-04-01 in %:  37.26375002326796\n",
      "XLK -> Simple Return from 2023-04-01 - 2024-04-01 in %:  39.25822244042367\n",
      "SMH -> Simple Return from 2023-04-01 - 2024-04-01 in %:  72.98801691288277\n",
      "IYT -> Simple Return from 2023-04-01 - 2024-04-01 in %:  46.16351592656645\n",
      "SOXX -> Simple Return from 2023-04-01 - 2024-04-01 in %:  57.11975942229284\n"
     ]
    }
   ],
   "source": [
    "\n",
    "vgt_simple_return = Utils.calculate_simple_return(vgt_data)\n",
    "xlk_simple_return = Utils.calculate_simple_return(xlk_data)\n",
    "smh_simple_return = Utils.calculate_simple_return(smh_data)\n",
    "iyt_simple_return = Utils.calculate_simple_return(iyt_data)\n",
    "soxx_simple_return = Utils.calculate_simple_return(soxx_data)\n",
    "\n",
    "simple_returns_dict = {\n",
    "    \"VGT\": vgt_simple_return,\n",
    "    \"XLK\": xlk_simple_return,\n",
    "    \"SMH\": smh_simple_return,\n",
    "    \"IYT\": iyt_simple_return,\n",
    "    \"SOXX\": soxx_simple_return\n",
    "}\n",
    "\n",
    "for ticker, simple_return in simple_returns_dict.items():\n",
    "    print(f\"{ticker} -> Simple Return from {start_date} - {end_date} in %: \", simple_return * 100)"
   ]
  },
  {
   "cell_type": "code",
   "execution_count": 17,
   "metadata": {},
   "outputs": [
    {
     "data": {
      "text/html": [
       "<div>\n",
       "<style scoped>\n",
       "    .dataframe tbody tr th:only-of-type {\n",
       "        vertical-align: middle;\n",
       "    }\n",
       "\n",
       "    .dataframe tbody tr th {\n",
       "        vertical-align: top;\n",
       "    }\n",
       "\n",
       "    .dataframe thead th {\n",
       "        text-align: right;\n",
       "    }\n",
       "</style>\n",
       "<table border=\"1\" class=\"dataframe\">\n",
       "  <thead>\n",
       "    <tr style=\"text-align: right;\">\n",
       "      <th></th>\n",
       "      <th>VGT</th>\n",
       "      <th>XLK</th>\n",
       "      <th>SMH</th>\n",
       "      <th>IYT</th>\n",
       "      <th>SOXX</th>\n",
       "    </tr>\n",
       "  </thead>\n",
       "  <tbody>\n",
       "    <tr>\n",
       "      <th>VGT</th>\n",
       "      <td>0.000125</td>\n",
       "      <td>0.000122</td>\n",
       "      <td>0.000171</td>\n",
       "      <td>0.000127</td>\n",
       "      <td>0.000169</td>\n",
       "    </tr>\n",
       "    <tr>\n",
       "      <th>XLK</th>\n",
       "      <td>0.000122</td>\n",
       "      <td>0.000122</td>\n",
       "      <td>0.000167</td>\n",
       "      <td>0.000125</td>\n",
       "      <td>0.000164</td>\n",
       "    </tr>\n",
       "    <tr>\n",
       "      <th>SMH</th>\n",
       "      <td>0.000171</td>\n",
       "      <td>0.000167</td>\n",
       "      <td>0.000298</td>\n",
       "      <td>0.000173</td>\n",
       "      <td>0.000294</td>\n",
       "    </tr>\n",
       "    <tr>\n",
       "      <th>IYT</th>\n",
       "      <td>0.000127</td>\n",
       "      <td>0.000125</td>\n",
       "      <td>0.000173</td>\n",
       "      <td>0.000133</td>\n",
       "      <td>0.000169</td>\n",
       "    </tr>\n",
       "    <tr>\n",
       "      <th>SOXX</th>\n",
       "      <td>0.000169</td>\n",
       "      <td>0.000164</td>\n",
       "      <td>0.000294</td>\n",
       "      <td>0.000169</td>\n",
       "      <td>0.000304</td>\n",
       "    </tr>\n",
       "  </tbody>\n",
       "</table>\n",
       "</div>"
      ],
      "text/plain": [
       "           VGT       XLK       SMH       IYT      SOXX\n",
       "VGT   0.000125  0.000122  0.000171  0.000127  0.000169\n",
       "XLK   0.000122  0.000122  0.000167  0.000125  0.000164\n",
       "SMH   0.000171  0.000167  0.000298  0.000173  0.000294\n",
       "IYT   0.000127  0.000125  0.000173  0.000133  0.000169\n",
       "SOXX  0.000169  0.000164  0.000294  0.000169  0.000304"
      ]
     },
     "execution_count": 17,
     "metadata": {},
     "output_type": "execute_result"
    }
   ],
   "source": [
    "# find the variance-covriance matrix of the returns\n",
    "# create a dataframe with the returns of all the ETFs\n",
    "# calculate the variance-covariance matrix\n",
    "vga_daily_returns = Utils.calculate_daily_returns(vgt_data)\n",
    "xlk_daily_returns = Utils.calculate_daily_returns(xlk_data)\n",
    "smh_daily_returns = Utils.calculate_daily_returns(smh_data)\n",
    "iyt_daily_returns = Utils.calculate_daily_returns(iyt_data)\n",
    "soxx_daily_returns = Utils.calculate_daily_returns(soxx_data)\n",
    "\n",
    "\n",
    "daily_returns_df = pd.DataFrame([vga_daily_returns, xlk_daily_returns, smh_daily_returns, iyt_daily_returns, soxx_daily_returns]).T \n",
    "daily_returns_df.columns = [\"VGT\", \"XLK\", \"SMH\", \"IYT\", \"SOXX\"]\n",
    "\n",
    "cov_matrix = daily_returns_df.cov()\n",
    "cov_matrix"
   ]
  },
  {
   "cell_type": "code",
   "execution_count": 79,
   "metadata": {},
   "outputs": [
    {
     "data": {
      "text/plain": [
       "VGT     0.011188\n",
       "XLK     0.011044\n",
       "SMH     0.017272\n",
       "IYT     0.011536\n",
       "SOXX    0.017427\n",
       "dtype: float64"
      ]
     },
     "execution_count": 79,
     "metadata": {},
     "output_type": "execute_result"
    }
   ],
   "source": [
    "# standard deviations between daily returns\n",
    "std_dev = daily_returns_df.std()\n",
    "std_dev"
   ]
  },
  {
   "cell_type": "markdown",
   "metadata": {},
   "source": [
    "## Optimal tangency portfolio using Markowitz model "
   ]
  },
  {
   "cell_type": "code",
   "execution_count": 18,
   "metadata": {},
   "outputs": [],
   "source": [
    "# Run the Markowitz Portfolio Optimization\n",
    "simple_returns_list = list(simple_returns_dict.values())\n",
    "markowitz = MarkowitzOptimization(simple_returns_list, cov_matrix, risk_free_rate)\n"
   ]
  },
  {
   "cell_type": "code",
   "execution_count": 22,
   "metadata": {},
   "outputs": [],
   "source": [
    "# find the weights of the portfolio with short shelling\n",
    "markowitz_weights_with_ss = markowitz.find_tangency_portfolio_with_short_selling()"
   ]
  },
  {
   "cell_type": "code",
   "execution_count": 26,
   "metadata": {},
   "outputs": [
    {
     "name": "stdout",
     "output_type": "stream",
     "text": [
      "VGT -> Markowitz Weights with Short Selling in %:  -20.111840703383262\n",
      "XLK -> Markowitz Weights with Short Selling in %:  1.695950695797694\n",
      "SMH -> Markowitz Weights with Short Selling in %:  11.73309089630365\n",
      "IYT -> Markowitz Weights with Short Selling in %:  15.755884608973975\n",
      "SOXX -> Markowitz Weights with Short Selling in %:  -8.073085497692059\n"
     ]
    }
   ],
   "source": [
    "# create the wieghts dictionary\n",
    "markowitz_weights_with_ss_dict = {\n",
    "    \"VGT\": markowitz_weights_with_ss[0],\n",
    "    \"XLK\": markowitz_weights_with_ss[1],\n",
    "    \"SMH\": markowitz_weights_with_ss[2],\n",
    "    \"IYT\": markowitz_weights_with_ss[3],\n",
    "    \"SOXX\": markowitz_weights_with_ss[4]\n",
    "}\n",
    "\n",
    "for ticker, weight in markowitz_weights_with_ss_dict.items():\n",
    "    print(f\"{ticker} -> Markowitz Weights with Short Selling in %: \", weight)"
   ]
  },
  {
   "cell_type": "code",
   "execution_count": 28,
   "metadata": {},
   "outputs": [],
   "source": [
    "# find the weights of the portfolio without short shelling\n",
    "markowitz_weights_without_ss = markowitz.find_tangency_portfolio_no_short_selling()"
   ]
  },
  {
   "cell_type": "code",
   "execution_count": 45,
   "metadata": {},
   "outputs": [
    {
     "name": "stdout",
     "output_type": "stream",
     "text": [
      "VGT -> Markowitz Weights without Short Selling in %:  8.599643094562447e-13\n",
      "XLK -> Markowitz Weights without Short Selling in %:  0.0\n",
      "SMH -> Markowitz Weights without Short Selling in %:  79.17754892463019\n",
      "IYT -> Markowitz Weights without Short Selling in %:  20.82245107536425\n",
      "SOXX -> Markowitz Weights without Short Selling in %:  6.1284092352496896e-12\n"
     ]
    }
   ],
   "source": [
    "# weights dictionary\n",
    "markowitz_weights_without_ss_dict = {\n",
    "    \"VGT\": markowitz_weights_without_ss[0],\n",
    "    \"XLK\": markowitz_weights_without_ss[1],\n",
    "    \"SMH\": markowitz_weights_without_ss[2],\n",
    "    \"IYT\": markowitz_weights_without_ss[3],\n",
    "    \"SOXX\": markowitz_weights_without_ss[4]\n",
    "}\n",
    "\n",
    "for ticker, weight in markowitz_weights_without_ss_dict.items():\n",
    "    print(f\"{ticker} -> Markowitz Weights without Short Selling in %: \", weight * 100)"
   ]
  },
  {
   "cell_type": "code",
   "execution_count": 35,
   "metadata": {},
   "outputs": [
    {
     "name": "stdout",
     "output_type": "stream",
     "text": [
      "Expected Return with Short Selling in %:  439.726770624501\n",
      "Volatility with Short Selling in %:  6.690023441816276\n"
     ]
    }
   ],
   "source": [
    "expected_return_with_ss, volatility_with_ss = Utils.calculate_portfolio_return_and_risk(markowitz_weights_with_ss, simple_returns_list, cov_matrix)\n",
    "print(\"Expected Return with Short Selling in %: \", expected_return_with_ss * 100)\n",
    "print(\"Volatility with Short Selling in %: \", volatility_with_ss * 100)"
   ]
  },
  {
   "cell_type": "code",
   "execution_count": 36,
   "metadata": {},
   "outputs": [
    {
     "name": "stdout",
     "output_type": "stream",
     "text": [
      "Sharpe Ratio with Short Selling:  83.2282801206712\n"
     ]
    }
   ],
   "source": [
    "# calculate sharpe ratio\n",
    "sharpe_ratio_with_ss = Utils.calculate_sharpe_ratio(expected_return_with_ss, volatility_with_ss, risk_free_rate)\n",
    "print(\"Sharpe Ratio with Short Selling: \", sharpe_ratio_with_ss)"
   ]
  },
  {
   "cell_type": "code",
   "execution_count": 37,
   "metadata": {},
   "outputs": [
    {
     "name": "stdout",
     "output_type": "stream",
     "text": [
      "Expected Return without Short Selling in %:  67.4024983187962\n",
      "Volatility without Short Selling in %:  1.5802974718769525\n"
     ]
    }
   ],
   "source": [
    "expected_return_without_ss, volatility_without_ss = Utils.calculate_portfolio_return_and_risk(markowitz_weights_without_ss, simple_returns_list, cov_matrix)\n",
    "print(\"Expected Return without Short Selling in %: \", expected_return_without_ss * 100)\n",
    "print(\"Volatility without Short Selling in %: \", volatility_without_ss * 100)"
   ]
  },
  {
   "cell_type": "code",
   "execution_count": 38,
   "metadata": {},
   "outputs": [
    {
     "name": "stdout",
     "output_type": "stream",
     "text": [
      "Sharpe Ratio without Short Selling:  12.650816832261501\n"
     ]
    }
   ],
   "source": [
    "# calculate sharpe ratio\n",
    "sharpe_ratio_without_ss = Utils.calculate_sharpe_ratio(expected_return_without_ss, volatility_without_ss, risk_free_rate)\n",
    "print(\"Sharpe Ratio without Short Selling: \", sharpe_ratio_without_ss)"
   ]
  },
  {
   "cell_type": "markdown",
   "metadata": {},
   "source": [
    "From the results above, we observe that as expected, the returns after allowing short shelling are much higher than when short selling is not allowed. Furthermore, the sharpe ratio from allowing short selling is around 5 times larger than that when short selling is not allowed\n",
    "\n",
    "For an investor not interested in short selling, this is still a good strategy as it exceeds market returns by more than 20%. Furthermore, if an investory is interested in diversifying the portflio more, we can put a constraint on the percentage invested in each asset. We will try this below"
   ]
  },
  {
   "cell_type": "code",
   "execution_count": 42,
   "metadata": {},
   "outputs": [],
   "source": [
    "# we are interested in finding optimal weights when an asset can hold 30% of the portfolio max\n",
    "markowitz_weights_without_ss_pct_constraint = markowitz.find_tangency_portfolio_no_short_selling_and_max_weight(0.3)"
   ]
  },
  {
   "cell_type": "code",
   "execution_count": 44,
   "metadata": {},
   "outputs": [
    {
     "name": "stdout",
     "output_type": "stream",
     "text": [
      "VGT -> Markowitz Weights without Short Selling and 30% constraint in %:  5.561197145804844\n",
      "XLK -> Markowitz Weights without Short Selling and 30% constraint in %:  30.0000000000555\n",
      "SMH -> Markowitz Weights without Short Selling and 30% constraint in %:  30.000000000186887\n",
      "IYT -> Markowitz Weights without Short Selling and 30% constraint in %:  30.00000000007597\n",
      "SOXX -> Markowitz Weights without Short Selling and 30% constraint in %:  4.438802853876809\n"
     ]
    }
   ],
   "source": [
    "markowitz_weights_dict_without_ss_pct_constraint = {\n",
    "    \"VGT\": markowitz_weights_without_ss_pct_constraint[0],\n",
    "    \"XLK\": markowitz_weights_without_ss_pct_constraint[1],\n",
    "    \"SMH\": markowitz_weights_without_ss_pct_constraint[2],\n",
    "    \"IYT\": markowitz_weights_without_ss_pct_constraint[3],\n",
    "    \"SOXX\": markowitz_weights_without_ss_pct_constraint[4]\n",
    "}\n",
    "\n",
    "for ticker, weight in markowitz_weights_dict_without_ss_pct_constraint.items():\n",
    "    print(f\"{ticker} -> Markowitz Weights without Short Selling and 30% constraint in %: \", weight * 100)"
   ]
  },
  {
   "cell_type": "code",
   "execution_count": 49,
   "metadata": {},
   "outputs": [
    {
     "name": "stdout",
     "output_type": "stream",
     "text": [
      "Expected Return with Short Selling and Constraint in %:  52.13067069823326\n",
      "Volatility with Short Selling and Constraint in %:  1.2882928203635993\n"
     ]
    }
   ],
   "source": [
    "expected_return_with_ss_with_constraint, volatility_with_ss_with_constraint = Utils.calculate_portfolio_return_and_risk(markowitz_weights_without_ss_pct_constraint, simple_returns_list, cov_matrix)\n",
    "print(\"Expected Return with Short Selling and Constraint in %: \", expected_return_with_ss_with_constraint * 100)\n",
    "print(\"Volatility with Short Selling and Constraint in %: \", volatility_with_ss_with_constraint * 100)"
   ]
  },
  {
   "cell_type": "code",
   "execution_count": 51,
   "metadata": {},
   "outputs": [
    {
     "name": "stdout",
     "output_type": "stream",
     "text": [
      "Sharpe Ratio with Short Selling and Constraint:  9.771742688237042\n"
     ]
    }
   ],
   "source": [
    "# find the Sharpe Ratio\n",
    "sharpe_no_ss_with_constraint = Utils.calculate_sharpe_ratio(expected_return_with_ss_with_constraint, volatility_with_ss_with_constraint, risk_free_rate)\n",
    "print(\"Sharpe Ratio with Short Selling and Constraint: \", sharpe_no_ss_with_constraint)"
   ]
  },
  {
   "cell_type": "markdown",
   "metadata": {},
   "source": [
    "After adding a constraint that each stock can have maximum of 30% weight, the portfolio is diversified. The expected returns have decreased by 15% whereas portfolio risk have decrease by 0.3%"
   ]
  },
  {
   "cell_type": "markdown",
   "metadata": {},
   "source": [
    "## Single Index Market Model"
   ]
  },
  {
   "cell_type": "markdown",
   "metadata": {},
   "source": [
    "We will now compare results from markowitz model with single index market model. We will use S&P500 Information Technology Index as benchmark to evaluate the performance with Single Index Market Model."
   ]
  },
  {
   "cell_type": "markdown",
   "metadata": {},
   "source": [
    "From this point, we will run `SingleFactorModel` class over all ETFs calculating beta, alpha and tau. We will then calculate the expected return using the formula:\n",
    "\n",
    "$$\n",
    "u_i = \\alpha_i + \\beta_i \\cdot u_m"
   ]
  },
  {
   "cell_type": "code",
   "execution_count": 53,
   "metadata": {},
   "outputs": [],
   "source": [
    "def get_simm_params(asset_return: pd.DataFrame, market_return: pd.DataFrame):\n",
    "  model = SingleFactorModel(asset_return, market_return)\n",
    "  model.fit()\n",
    "  \n",
    "  params = model.get_params()\n",
    "  alpha = params.get(\"alpha\").get(\"value\")\n",
    "  beta = params.get(\"beta\").get(\"value\")\n",
    "  tau = params.get(\"tau\").get(\"value\")\n",
    "  \n",
    "  return (alpha, beta, tau)\n",
    "  "
   ]
  },
  {
   "cell_type": "code",
   "execution_count": 55,
   "metadata": {},
   "outputs": [],
   "source": [
    "# run SIMM for VGT\n",
    "vgt_alpha, vgt_beta, vgt_tau = get_simm_params(vga_daily_returns, market_index_daily_returns)"
   ]
  },
  {
   "cell_type": "code",
   "execution_count": 56,
   "metadata": {},
   "outputs": [],
   "source": [
    "# run SIMM for XLK\n",
    "xlk_alpha, xlk_beta, xlk_tau = get_simm_params(xlk_daily_returns, market_index_daily_returns)"
   ]
  },
  {
   "cell_type": "code",
   "execution_count": 57,
   "metadata": {},
   "outputs": [],
   "source": [
    "# run SIMM for SMH\n",
    "smh_alpha, smh_beta, smh_tau = get_simm_params(smh_daily_returns, market_index_daily_returns)"
   ]
  },
  {
   "cell_type": "code",
   "execution_count": 58,
   "metadata": {},
   "outputs": [],
   "source": [
    "# run SIMM for IYT\n",
    "iyt_alpha, iyt_beta, iyt_tau = get_simm_params(iyt_daily_returns, market_index_daily_returns)"
   ]
  },
  {
   "cell_type": "code",
   "execution_count": 59,
   "metadata": {},
   "outputs": [],
   "source": [
    "# run SIMM for SOXX\n",
    "soxx_alpha, soxx_beta, soxx_tau = get_simm_params(soxx_daily_returns, market_index_daily_returns)"
   ]
  },
  {
   "cell_type": "code",
   "execution_count": 60,
   "metadata": {},
   "outputs": [],
   "source": [
    "# get expected returns using alpha, beta and expected market return\n",
    "vgt_expected_return = vgt_alpha + (vgt_beta * market_index_data_expected_return)\n",
    "xlk_expected_return = xlk_alpha + (xlk_beta * market_index_data_expected_return)\n",
    "smh_expected_return = smh_alpha + (smh_beta * market_index_data_expected_return)\n",
    "iyt_expected_return = iyt_alpha + (iyt_beta * market_index_data_expected_return)\n",
    "soxx_expected_return = soxx_alpha + (soxx_beta * market_index_data_expected_return)"
   ]
  },
  {
   "cell_type": "code",
   "execution_count": 62,
   "metadata": {},
   "outputs": [
    {
     "name": "stdout",
     "output_type": "stream",
     "text": [
      "VGT -> Expected Daily Return in %:  0.13402053852496243\n",
      "VGT -> Alpha:  -0.00012983837755000072\n",
      "VGT -> Beta:  0.9403250858343697\n",
      "VGT -> Tau:  0.002036844094078624\n",
      "\n",
      "XLK -> Expected Daily Return in %:  0.13968242938889514\n",
      "XLK -> Alpha:  -6.718197476336831e-05\n",
      "XLK -> Beta:  0.936463155090568\n",
      "XLK -> Tau:  0.0013901279215019285\n",
      "\n",
      "SMH -> Expected Daily Return in %:  0.2359472140425165\n",
      "SMH -> Alpha:  0.0003236418568278154\n",
      "SMH -> Beta:  1.3022348957299865\n",
      "SMH -> Tau:  0.008150764625956512\n",
      "\n",
      "IYT -> Expected Daily Return in %:  0.15978216261794406\n",
      "IYT -> Alpha:  9.12318311877671e-05\n",
      "IYT -> Beta:  0.963702043532858\n",
      "IYT -> Tau:  0.0024403074884453745\n",
      "\n",
      "SOXX -> Expected Daily Return in %:  0.19738981455821436\n",
      "SOXX -> Alpha:  2.017572856687216e-05\n",
      "SOXX -> Beta:  1.249713951357262\n",
      "SOXX -> Tau:  0.00950129483097873\n",
      "\n"
     ]
    }
   ],
   "source": [
    "# we can now pack the expected returns into a dictionary along with beta and tau\n",
    "expected_returns_dict = {\n",
    "    \"VGT\": vgt_expected_return,\n",
    "    \"XLK\": xlk_expected_return,\n",
    "    \"SMH\": smh_expected_return,\n",
    "    \"IYT\": iyt_expected_return,\n",
    "    \"SOXX\": soxx_expected_return\n",
    "}\n",
    "\n",
    "alpha_dict = {\n",
    "    \"VGT\": vgt_alpha,\n",
    "    \"XLK\": xlk_alpha,\n",
    "    \"SMH\": smh_alpha,\n",
    "    \"IYT\": iyt_alpha,\n",
    "    \"SOXX\": soxx_alpha\n",
    "}\n",
    "\n",
    "beta_dict = {\n",
    "    \"VGT\": vgt_beta,\n",
    "    \"XLK\": xlk_beta,\n",
    "    \"SMH\": smh_beta,\n",
    "    \"IYT\": iyt_beta,\n",
    "    \"SOXX\": soxx_beta\n",
    "}\n",
    "\n",
    "tau_dict = {\n",
    "    \"VGT\": vgt_tau,\n",
    "    \"XLK\": xlk_tau,\n",
    "    \"SMH\": smh_tau,\n",
    "    \"IYT\": iyt_tau,\n",
    "    \"SOXX\": soxx_tau\n",
    "}\n",
    "\n",
    "for i in range(len(expected_returns_dict.keys())):\n",
    "  print(f\"{ list(expected_returns_dict.keys())[i] } -> Expected Daily Return in %: \", list(expected_returns_dict.values())[i] * 100)\n",
    "  print(f\"{ list(alpha_dict.keys())[i] } -> Alpha: \", list(alpha_dict.values())[i])\n",
    "  print(f\"{ list(beta_dict.keys())[i] } -> Beta: \", list(beta_dict.values())[i])\n",
    "  print(f\"{ list(tau_dict.keys())[i] } -> Tau: \", list(tau_dict.values())[i])\n",
    "  print()"
   ]
  },
  {
   "cell_type": "code",
   "execution_count": 65,
   "metadata": {},
   "outputs": [],
   "source": [
    "# run the SIMM optimization\n",
    "expected_returns_list = list(expected_returns_dict.values())\n",
    "beta_list = list(beta_dict.values())\n",
    "tau_list = list(tau_dict.values())\n",
    "alpha_list = list(alpha_dict.values())\n",
    "\n",
    "simm_optimization = SingleFactorModelOptimization(expected_returns_list, beta_list, tau_list, market_index_data_variance, risk_free_rate)"
   ]
  },
  {
   "cell_type": "code",
   "execution_count": 70,
   "metadata": {},
   "outputs": [],
   "source": [
    "# find the optimal weights when short selling is allowed\n",
    "simm_weights_with_ss = simm_optimization.find_weights_short_selling_allowed()"
   ]
  },
  {
   "cell_type": "code",
   "execution_count": 72,
   "metadata": {},
   "outputs": [
    {
     "name": "stdout",
     "output_type": "stream",
     "text": [
      "VGT -> SIMM Weights with Short Selling in %:  54.3398907819194\n",
      "XLK -> SIMM Weights with Short Selling in %:  129.77111138520218\n",
      "SMH -> SIMM Weights with Short Selling in %:  -48.840319357298426\n",
      "IYT -> SIMM Weights with Short Selling in %:  -5.362673159201556\n",
      "SOXX -> SIMM Weights with Short Selling in %:  -29.90800965062157\n"
     ]
    }
   ],
   "source": [
    "simm_weights_with_ss_dict = {\n",
    "  \"VGT\": simm_weights_with_ss[0],\n",
    "  \"XLK\": simm_weights_with_ss[1],\n",
    "  \"SMH\": simm_weights_with_ss[2],\n",
    "  \"IYT\": simm_weights_with_ss[3],\n",
    "  \"SOXX\": simm_weights_with_ss[4]\n",
    "}\n",
    "\n",
    "for ticker, weight in simm_weights_with_ss_dict.items():\n",
    "    print(f\"{ticker} -> SIMM Weights with Short Selling in %: \", weight * 100)"
   ]
  },
  {
   "cell_type": "markdown",
   "metadata": {},
   "source": [
    "With weights found, we can find the expected return of portfolio and the risk using the formula:\n",
    "\n",
    "$$\n",
    "u_p = \\alpha_p + \\beta_p \\cdot u_m\n",
    "\n",
    "\\newline\n",
    "\n",
    "\\sigma_p^2 = \\beta_p^2 \\cdot \\sigma_m^2 + \\tau_p^2\n",
    "\n",
    "\\newline\n",
    "\n",
    "where:\n",
    "\\newline\n",
    "\n",
    "\\alpha_p = \\sum_{i=1}^{n} x_i \\cdot \\alpha_i\n",
    "\n",
    "\\newline\n",
    "\n",
    "\\beta_p = \\sum_{i=1}^{n} x_i \\cdot \\beta_i\n",
    "\n",
    "\\newline\n",
    "\n",
    "\\tau_p^2 = \\sum_{i=1}^{n} x_i^2 \\cdot \\tau_i^2"
   ]
  },
  {
   "cell_type": "code",
   "execution_count": 68,
   "metadata": {},
   "outputs": [
    {
     "name": "stdout",
     "output_type": "stream",
     "text": [
      "Expected Portfolio Return with Short Selling in %:  66.47693160638363\n",
      "Portfolio Risk with Short Selling in %:  1.8471700984689663\n"
     ]
    }
   ],
   "source": [
    "simm_expected_portfolio_return_with_ss, simm_portfolio_risk_with_ss = Utils.calculate_factor_model_percentage_portfolio_return_and_risk(simm_weights_with_ss, market_index_data_expected_return, market_index_data_variance, alpha_list, beta_list, tau_list)\n",
    "print(\"Expected Portfolio Return with Short Selling in %: \", simm_expected_portfolio_return_with_ss * 100)\n",
    "print(\"Portfolio Risk with Short Selling in %: \", simm_portfolio_risk_with_ss * 100)"
   ]
  },
  {
   "cell_type": "code",
   "execution_count": 69,
   "metadata": {},
   "outputs": [
    {
     "name": "stdout",
     "output_type": "stream",
     "text": [
      "SIMM Sharpe Ratio with Short Selling:  12.421633798767779\n"
     ]
    }
   ],
   "source": [
    "# find the sharpe ratio\n",
    "simm_sharpe_ratio_with_ss = Utils.calculate_sharpe_ratio(simm_expected_portfolio_return_with_ss, simm_portfolio_risk_with_ss, risk_free_rate)\n",
    "print(\"SIMM Sharpe Ratio with Short Selling: \", simm_sharpe_ratio_with_ss)"
   ]
  },
  {
   "cell_type": "code",
   "execution_count": 73,
   "metadata": {},
   "outputs": [],
   "source": [
    "# find optimal weights when short selling is not allowed\n",
    "simm_weights_no_ss = simm_optimization.find_weights_no_short_selling()"
   ]
  },
  {
   "cell_type": "code",
   "execution_count": 74,
   "metadata": {},
   "outputs": [
    {
     "name": "stdout",
     "output_type": "stream",
     "text": [
      "VGT -> SIMM Weights without Short Selling in %:  25.002431213880545\n",
      "XLK -> SIMM Weights without Short Selling in %:  53.45653136566564\n",
      "SMH -> SIMM Weights without Short Selling in %:  2.162370545500286\n",
      "IYT -> SIMM Weights without Short Selling in %:  17.85152152207638\n",
      "SOXX -> SIMM Weights without Short Selling in %:  1.52714535287713\n"
     ]
    }
   ],
   "source": [
    "simm_weights_no_ss_dict = {\n",
    "  \"VGT\": simm_weights_no_ss[0],\n",
    "  \"XLK\": simm_weights_no_ss[1],\n",
    "  \"SMH\": simm_weights_no_ss[2],\n",
    "  \"IYT\": simm_weights_no_ss[3],\n",
    "  \"SOXX\": simm_weights_no_ss[4]\n",
    "}\n",
    "\n",
    "for ticker, weight in simm_weights_no_ss_dict.items():\n",
    "  print(f\"{ticker} -> SIMM Weights without Short Selling in %: \", weight * 100)\n",
    "    "
   ]
  },
  {
   "cell_type": "code",
   "execution_count": 75,
   "metadata": {},
   "outputs": [
    {
     "name": "stdout",
     "output_type": "stream",
     "text": [
      "Expected Portfolio Return without Short Selling in %:  95.49843530512001\n",
      "Portfolio Risk without Short Selling in %:  0.6865612006444066\n"
     ]
    }
   ],
   "source": [
    "# we will now work to find the expected return and risk of the portfolio\n",
    "simm_expected_portfolio_return_no_ss, simm_portfolio_risk_no_ss = Utils.calculate_factor_model_percentage_portfolio_return_and_risk(simm_weights_no_ss, market_index_data_expected_return, market_index_data_variance, alpha_list, beta_list, tau_list)\n",
    "print(\"Expected Portfolio Return without Short Selling in %: \", simm_expected_portfolio_return_no_ss * 100)\n",
    "print(\"Portfolio Risk without Short Selling in %: \", simm_portfolio_risk_no_ss * 100)"
   ]
  },
  {
   "cell_type": "code",
   "execution_count": 76,
   "metadata": {},
   "outputs": [
    {
     "name": "stdout",
     "output_type": "stream",
     "text": [
      "SIMM Sharpe Ratio without Short Selling:  18.22253946823623\n"
     ]
    }
   ],
   "source": [
    "# find the sharpe ratio\n",
    "simm_sharpe_ratio_no_ss = Utils.calculate_sharpe_ratio(simm_expected_portfolio_return_no_ss, simm_portfolio_risk_no_ss, risk_free_rate)\n",
    "print(\"SIMM Sharpe Ratio without Short Selling: \", simm_sharpe_ratio_no_ss)"
   ]
  }
 ],
 "metadata": {
  "kernelspec": {
   "display_name": "stock_analysis",
   "language": "python",
   "name": "python3"
  },
  "language_info": {
   "codemirror_mode": {
    "name": "ipython",
    "version": 3
   },
   "file_extension": ".py",
   "mimetype": "text/x-python",
   "name": "python",
   "nbconvert_exporter": "python",
   "pygments_lexer": "ipython3",
   "version": "3.11.5"
  }
 },
 "nbformat": 4,
 "nbformat_minor": 2
}

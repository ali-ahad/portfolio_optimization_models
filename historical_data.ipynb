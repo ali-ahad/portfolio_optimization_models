{
 "cells": [
  {
   "cell_type": "code",
   "execution_count": 64,
   "metadata": {},
   "outputs": [
    {
     "name": "stdout",
     "output_type": "stream",
     "text": [
      "The autoreload extension is already loaded. To reload it, use:\n",
      "  %reload_ext autoreload\n"
     ]
    }
   ],
   "source": [
    "import yfinance as yf\n",
    "import numpy as np\n",
    "import pandas as pd\n",
    "\n",
    "from optimisation_markowitz import MarkowitzOptimization\n",
    "\n",
    "%load_ext autoreload\n",
    "%autoreload 2"
   ]
  },
  {
   "cell_type": "code",
   "execution_count": 9,
   "metadata": {},
   "outputs": [],
   "source": [
    "# get Date and Adj Close\n",
    "def get_historical_data(ticker, start_date, end_date):\n",
    "    data = yf.download(ticker, start=start_date, end=end_date)\n",
    "    data = data[['Adj Close']]\n",
    "    \n",
    "    return data"
   ]
  },
  {
   "cell_type": "markdown",
   "metadata": {},
   "source": [
    "We will use S&P500 Information Technology Index as benchmark to evaluate the performance with Single Index Market Model and Constant Correlation Model. The return over four years will be used as the market return in the formula"
   ]
  },
  {
   "cell_type": "code",
   "execution_count": 12,
   "metadata": {},
   "outputs": [
    {
     "name": "stdout",
     "output_type": "stream",
     "text": [
      "[*********************100%%**********************]  1 of 1 completed\n"
     ]
    },
    {
     "data": {
      "text/html": [
       "<div>\n",
       "<style scoped>\n",
       "    .dataframe tbody tr th:only-of-type {\n",
       "        vertical-align: middle;\n",
       "    }\n",
       "\n",
       "    .dataframe tbody tr th {\n",
       "        vertical-align: top;\n",
       "    }\n",
       "\n",
       "    .dataframe thead th {\n",
       "        text-align: right;\n",
       "    }\n",
       "</style>\n",
       "<table border=\"1\" class=\"dataframe\">\n",
       "  <thead>\n",
       "    <tr style=\"text-align: right;\">\n",
       "      <th></th>\n",
       "      <th>Adj Close</th>\n",
       "    </tr>\n",
       "    <tr>\n",
       "      <th>Date</th>\n",
       "      <th></th>\n",
       "    </tr>\n",
       "  </thead>\n",
       "  <tbody>\n",
       "    <tr>\n",
       "      <th>2023-04-03</th>\n",
       "      <td>2637.780029</td>\n",
       "    </tr>\n",
       "    <tr>\n",
       "      <th>2023-04-04</th>\n",
       "      <td>2622.429932</td>\n",
       "    </tr>\n",
       "    <tr>\n",
       "      <th>2023-04-05</th>\n",
       "      <td>2591.169922</td>\n",
       "    </tr>\n",
       "    <tr>\n",
       "      <th>2023-04-06</th>\n",
       "      <td>2608.750000</td>\n",
       "    </tr>\n",
       "    <tr>\n",
       "      <th>2023-04-10</th>\n",
       "      <td>2604.909912</td>\n",
       "    </tr>\n",
       "    <tr>\n",
       "      <th>...</th>\n",
       "      <td>...</td>\n",
       "    </tr>\n",
       "    <tr>\n",
       "      <th>2024-03-22</th>\n",
       "      <td>3869.949951</td>\n",
       "    </tr>\n",
       "    <tr>\n",
       "      <th>2024-03-25</th>\n",
       "      <td>3849.919922</td>\n",
       "    </tr>\n",
       "    <tr>\n",
       "      <th>2024-03-26</th>\n",
       "      <td>3820.600098</td>\n",
       "    </tr>\n",
       "    <tr>\n",
       "      <th>2024-03-27</th>\n",
       "      <td>3825.310059</td>\n",
       "    </tr>\n",
       "    <tr>\n",
       "      <th>2024-03-28</th>\n",
       "      <td>3821.050049</td>\n",
       "    </tr>\n",
       "  </tbody>\n",
       "</table>\n",
       "<p>249 rows × 1 columns</p>\n",
       "</div>"
      ],
      "text/plain": [
       "              Adj Close\n",
       "Date                   \n",
       "2023-04-03  2637.780029\n",
       "2023-04-04  2622.429932\n",
       "2023-04-05  2591.169922\n",
       "2023-04-06  2608.750000\n",
       "2023-04-10  2604.909912\n",
       "...                 ...\n",
       "2024-03-22  3869.949951\n",
       "2024-03-25  3849.919922\n",
       "2024-03-26  3820.600098\n",
       "2024-03-27  3825.310059\n",
       "2024-03-28  3821.050049\n",
       "\n",
       "[249 rows x 1 columns]"
      ]
     },
     "execution_count": 12,
     "metadata": {},
     "output_type": "execute_result"
    }
   ],
   "source": [
    "# Get close data for S&P 500 Information Technology Index\n",
    "market_index_data = get_historical_data(\"^SP500-45\", \"2023-04-01\", \"2024-04-01\")\n",
    "market_index_data\n"
   ]
  },
  {
   "cell_type": "markdown",
   "metadata": {},
   "source": [
    "For markowitz model, we will use 3-Month US Treasury Bill as risk-free rate. Since we are holding the portfolio for 1 year, we will take the last value as the risk-free rate."
   ]
  },
  {
   "cell_type": "code",
   "execution_count": 84,
   "metadata": {},
   "outputs": [
    {
     "name": "stdout",
     "output_type": "stream",
     "text": [
      "[*********************100%%**********************]  1 of 1 completed\n"
     ]
    },
    {
     "data": {
      "text/plain": [
       "0.05203000068664551"
      ]
     },
     "execution_count": 84,
     "metadata": {},
     "output_type": "execute_result"
    }
   ],
   "source": [
    "risk_free_rate_df = yf.download(\"^IRX\", start=\"2023-04-01\", end=\"2024-04-01\")\n",
    "risk_free_rate = risk_free_rate_df['Adj Close'].iloc[-1] / 100\n",
    "risk_free_rate"
   ]
  },
  {
   "cell_type": "markdown",
   "metadata": {},
   "source": [
    "We will now download the data for US Technology Equity ETFs on which we will run our strategies. We will use the following top 5 ETFs based on total assets:\n",
    "1. Vanguard Information Technology ETF (VGT)\n",
    "2. Technology Select Sector SPDR Fund (XLK)\n",
    "3. VanEck Semiconductor ETF (SMH)\n",
    "4. iShares US Technology ETF (IYW)\n",
    "5. iShares Semiconductor ETF (SOXX)\n",
    "\n",
    "Source: https://etfdb.com/etfdb-category/technology-equities/ "
   ]
  },
  {
   "cell_type": "code",
   "execution_count": 20,
   "metadata": {},
   "outputs": [
    {
     "name": "stdout",
     "output_type": "stream",
     "text": [
      "[*********************100%%**********************]  1 of 1 completed\n"
     ]
    },
    {
     "data": {
      "text/html": [
       "<div>\n",
       "<style scoped>\n",
       "    .dataframe tbody tr th:only-of-type {\n",
       "        vertical-align: middle;\n",
       "    }\n",
       "\n",
       "    .dataframe tbody tr th {\n",
       "        vertical-align: top;\n",
       "    }\n",
       "\n",
       "    .dataframe thead th {\n",
       "        text-align: right;\n",
       "    }\n",
       "</style>\n",
       "<table border=\"1\" class=\"dataframe\">\n",
       "  <thead>\n",
       "    <tr style=\"text-align: right;\">\n",
       "      <th></th>\n",
       "      <th>Adj Close</th>\n",
       "    </tr>\n",
       "    <tr>\n",
       "      <th>Date</th>\n",
       "      <th></th>\n",
       "    </tr>\n",
       "  </thead>\n",
       "  <tbody>\n",
       "    <tr>\n",
       "      <th>2023-04-03</th>\n",
       "      <td>381.994537</td>\n",
       "    </tr>\n",
       "    <tr>\n",
       "      <th>2023-04-04</th>\n",
       "      <td>379.573334</td>\n",
       "    </tr>\n",
       "    <tr>\n",
       "      <th>2023-04-05</th>\n",
       "      <td>375.008820</td>\n",
       "    </tr>\n",
       "    <tr>\n",
       "      <th>2023-04-06</th>\n",
       "      <td>376.953674</td>\n",
       "    </tr>\n",
       "    <tr>\n",
       "      <th>2023-04-10</th>\n",
       "      <td>376.735352</td>\n",
       "    </tr>\n",
       "    <tr>\n",
       "      <th>...</th>\n",
       "      <td>...</td>\n",
       "    </tr>\n",
       "    <tr>\n",
       "      <th>2024-03-22</th>\n",
       "      <td>528.280029</td>\n",
       "    </tr>\n",
       "    <tr>\n",
       "      <th>2024-03-25</th>\n",
       "      <td>526.150024</td>\n",
       "    </tr>\n",
       "    <tr>\n",
       "      <th>2024-03-26</th>\n",
       "      <td>523.840027</td>\n",
       "    </tr>\n",
       "    <tr>\n",
       "      <th>2024-03-27</th>\n",
       "      <td>525.080017</td>\n",
       "    </tr>\n",
       "    <tr>\n",
       "      <th>2024-03-28</th>\n",
       "      <td>524.340027</td>\n",
       "    </tr>\n",
       "  </tbody>\n",
       "</table>\n",
       "<p>249 rows × 1 columns</p>\n",
       "</div>"
      ],
      "text/plain": [
       "             Adj Close\n",
       "Date                  \n",
       "2023-04-03  381.994537\n",
       "2023-04-04  379.573334\n",
       "2023-04-05  375.008820\n",
       "2023-04-06  376.953674\n",
       "2023-04-10  376.735352\n",
       "...                ...\n",
       "2024-03-22  528.280029\n",
       "2024-03-25  526.150024\n",
       "2024-03-26  523.840027\n",
       "2024-03-27  525.080017\n",
       "2024-03-28  524.340027\n",
       "\n",
       "[249 rows x 1 columns]"
      ]
     },
     "execution_count": 20,
     "metadata": {},
     "output_type": "execute_result"
    }
   ],
   "source": [
    "# get the data for VanGuard Information Technology ETF\n",
    "vgt_data = get_historical_data(\"VGT\", \"2023-04-01\", \"2024-04-01\")\n",
    "vgt_data"
   ]
  },
  {
   "cell_type": "code",
   "execution_count": 21,
   "metadata": {},
   "outputs": [
    {
     "name": "stdout",
     "output_type": "stream",
     "text": [
      "[*********************100%%**********************]  1 of 1 completed\n"
     ]
    },
    {
     "data": {
      "text/html": [
       "<div>\n",
       "<style scoped>\n",
       "    .dataframe tbody tr th:only-of-type {\n",
       "        vertical-align: middle;\n",
       "    }\n",
       "\n",
       "    .dataframe tbody tr th {\n",
       "        vertical-align: top;\n",
       "    }\n",
       "\n",
       "    .dataframe thead th {\n",
       "        text-align: right;\n",
       "    }\n",
       "</style>\n",
       "<table border=\"1\" class=\"dataframe\">\n",
       "  <thead>\n",
       "    <tr style=\"text-align: right;\">\n",
       "      <th></th>\n",
       "      <th>Adj Close</th>\n",
       "    </tr>\n",
       "    <tr>\n",
       "      <th>Date</th>\n",
       "      <th></th>\n",
       "    </tr>\n",
       "  </thead>\n",
       "  <tbody>\n",
       "    <tr>\n",
       "      <th>2023-04-03</th>\n",
       "      <td>149.556702</td>\n",
       "    </tr>\n",
       "    <tr>\n",
       "      <th>2023-04-04</th>\n",
       "      <td>148.733383</td>\n",
       "    </tr>\n",
       "    <tr>\n",
       "      <th>2023-04-05</th>\n",
       "      <td>147.037140</td>\n",
       "    </tr>\n",
       "    <tr>\n",
       "      <th>2023-04-06</th>\n",
       "      <td>147.870392</td>\n",
       "    </tr>\n",
       "    <tr>\n",
       "      <th>2023-04-10</th>\n",
       "      <td>147.791031</td>\n",
       "    </tr>\n",
       "    <tr>\n",
       "      <th>...</th>\n",
       "      <td>...</td>\n",
       "    </tr>\n",
       "    <tr>\n",
       "      <th>2024-03-22</th>\n",
       "      <td>209.910004</td>\n",
       "    </tr>\n",
       "    <tr>\n",
       "      <th>2024-03-25</th>\n",
       "      <td>208.520004</td>\n",
       "    </tr>\n",
       "    <tr>\n",
       "      <th>2024-03-26</th>\n",
       "      <td>207.660004</td>\n",
       "    </tr>\n",
       "    <tr>\n",
       "      <th>2024-03-27</th>\n",
       "      <td>208.720001</td>\n",
       "    </tr>\n",
       "    <tr>\n",
       "      <th>2024-03-28</th>\n",
       "      <td>208.270004</td>\n",
       "    </tr>\n",
       "  </tbody>\n",
       "</table>\n",
       "<p>249 rows × 1 columns</p>\n",
       "</div>"
      ],
      "text/plain": [
       "             Adj Close\n",
       "Date                  \n",
       "2023-04-03  149.556702\n",
       "2023-04-04  148.733383\n",
       "2023-04-05  147.037140\n",
       "2023-04-06  147.870392\n",
       "2023-04-10  147.791031\n",
       "...                ...\n",
       "2024-03-22  209.910004\n",
       "2024-03-25  208.520004\n",
       "2024-03-26  207.660004\n",
       "2024-03-27  208.720001\n",
       "2024-03-28  208.270004\n",
       "\n",
       "[249 rows x 1 columns]"
      ]
     },
     "execution_count": 21,
     "metadata": {},
     "output_type": "execute_result"
    }
   ],
   "source": [
    "# get the data for Technology Select Sector SPDR Fund\n",
    "xlk_data = get_historical_data(\"XLK\", \"2023-04-01\", \"2024-04-01\")\n",
    "xlk_data"
   ]
  },
  {
   "cell_type": "code",
   "execution_count": 22,
   "metadata": {},
   "outputs": [
    {
     "name": "stdout",
     "output_type": "stream",
     "text": [
      "[*********************100%%**********************]  1 of 1 completed\n"
     ]
    },
    {
     "data": {
      "text/html": [
       "<div>\n",
       "<style scoped>\n",
       "    .dataframe tbody tr th:only-of-type {\n",
       "        vertical-align: middle;\n",
       "    }\n",
       "\n",
       "    .dataframe tbody tr th {\n",
       "        vertical-align: top;\n",
       "    }\n",
       "\n",
       "    .dataframe thead th {\n",
       "        text-align: right;\n",
       "    }\n",
       "</style>\n",
       "<table border=\"1\" class=\"dataframe\">\n",
       "  <thead>\n",
       "    <tr style=\"text-align: right;\">\n",
       "      <th></th>\n",
       "      <th>Adj Close</th>\n",
       "    </tr>\n",
       "    <tr>\n",
       "      <th>Date</th>\n",
       "      <th></th>\n",
       "    </tr>\n",
       "  </thead>\n",
       "  <tbody>\n",
       "    <tr>\n",
       "      <th>2023-04-03</th>\n",
       "      <td>130.061035</td>\n",
       "    </tr>\n",
       "    <tr>\n",
       "      <th>2023-04-04</th>\n",
       "      <td>128.063095</td>\n",
       "    </tr>\n",
       "    <tr>\n",
       "      <th>2023-04-05</th>\n",
       "      <td>125.821594</td>\n",
       "    </tr>\n",
       "    <tr>\n",
       "      <th>2023-04-06</th>\n",
       "      <td>125.443871</td>\n",
       "    </tr>\n",
       "    <tr>\n",
       "      <th>2023-04-10</th>\n",
       "      <td>127.342430</td>\n",
       "    </tr>\n",
       "    <tr>\n",
       "      <th>...</th>\n",
       "      <td>...</td>\n",
       "    </tr>\n",
       "    <tr>\n",
       "      <th>2024-03-22</th>\n",
       "      <td>227.639999</td>\n",
       "    </tr>\n",
       "    <tr>\n",
       "      <th>2024-03-25</th>\n",
       "      <td>227.080002</td>\n",
       "    </tr>\n",
       "    <tr>\n",
       "      <th>2024-03-26</th>\n",
       "      <td>224.970001</td>\n",
       "    </tr>\n",
       "    <tr>\n",
       "      <th>2024-03-27</th>\n",
       "      <td>224.889999</td>\n",
       "    </tr>\n",
       "    <tr>\n",
       "      <th>2024-03-28</th>\n",
       "      <td>224.990005</td>\n",
       "    </tr>\n",
       "  </tbody>\n",
       "</table>\n",
       "<p>249 rows × 1 columns</p>\n",
       "</div>"
      ],
      "text/plain": [
       "             Adj Close\n",
       "Date                  \n",
       "2023-04-03  130.061035\n",
       "2023-04-04  128.063095\n",
       "2023-04-05  125.821594\n",
       "2023-04-06  125.443871\n",
       "2023-04-10  127.342430\n",
       "...                ...\n",
       "2024-03-22  227.639999\n",
       "2024-03-25  227.080002\n",
       "2024-03-26  224.970001\n",
       "2024-03-27  224.889999\n",
       "2024-03-28  224.990005\n",
       "\n",
       "[249 rows x 1 columns]"
      ]
     },
     "execution_count": 22,
     "metadata": {},
     "output_type": "execute_result"
    }
   ],
   "source": [
    "# get the data for VanEck Semiconductor ETF\n",
    "smh_data = get_historical_data(\"SMH\", \"2023-04-01\", \"2024-04-01\")\n",
    "smh_data"
   ]
  },
  {
   "cell_type": "code",
   "execution_count": 28,
   "metadata": {},
   "outputs": [
    {
     "name": "stdout",
     "output_type": "stream",
     "text": [
      "[*********************100%%**********************]  1 of 1 completed\n"
     ]
    },
    {
     "data": {
      "text/html": [
       "<div>\n",
       "<style scoped>\n",
       "    .dataframe tbody tr th:only-of-type {\n",
       "        vertical-align: middle;\n",
       "    }\n",
       "\n",
       "    .dataframe tbody tr th {\n",
       "        vertical-align: top;\n",
       "    }\n",
       "\n",
       "    .dataframe thead th {\n",
       "        text-align: right;\n",
       "    }\n",
       "</style>\n",
       "<table border=\"1\" class=\"dataframe\">\n",
       "  <thead>\n",
       "    <tr style=\"text-align: right;\">\n",
       "      <th></th>\n",
       "      <th>Adj Close</th>\n",
       "    </tr>\n",
       "    <tr>\n",
       "      <th>Date</th>\n",
       "      <th></th>\n",
       "    </tr>\n",
       "  </thead>\n",
       "  <tbody>\n",
       "    <tr>\n",
       "      <th>2023-04-03</th>\n",
       "      <td>92.403366</td>\n",
       "    </tr>\n",
       "    <tr>\n",
       "      <th>2023-04-04</th>\n",
       "      <td>91.975060</td>\n",
       "    </tr>\n",
       "    <tr>\n",
       "      <th>2023-04-05</th>\n",
       "      <td>90.829613</td>\n",
       "    </tr>\n",
       "    <tr>\n",
       "      <th>2023-04-06</th>\n",
       "      <td>91.646378</td>\n",
       "    </tr>\n",
       "    <tr>\n",
       "      <th>2023-04-10</th>\n",
       "      <td>91.506920</td>\n",
       "    </tr>\n",
       "    <tr>\n",
       "      <th>...</th>\n",
       "      <td>...</td>\n",
       "    </tr>\n",
       "    <tr>\n",
       "      <th>2024-03-22</th>\n",
       "      <td>136.589996</td>\n",
       "    </tr>\n",
       "    <tr>\n",
       "      <th>2024-03-25</th>\n",
       "      <td>135.899994</td>\n",
       "    </tr>\n",
       "    <tr>\n",
       "      <th>2024-03-26</th>\n",
       "      <td>135.210007</td>\n",
       "    </tr>\n",
       "    <tr>\n",
       "      <th>2024-03-27</th>\n",
       "      <td>135.339996</td>\n",
       "    </tr>\n",
       "    <tr>\n",
       "      <th>2024-03-28</th>\n",
       "      <td>135.059998</td>\n",
       "    </tr>\n",
       "  </tbody>\n",
       "</table>\n",
       "<p>249 rows × 1 columns</p>\n",
       "</div>"
      ],
      "text/plain": [
       "             Adj Close\n",
       "Date                  \n",
       "2023-04-03   92.403366\n",
       "2023-04-04   91.975060\n",
       "2023-04-05   90.829613\n",
       "2023-04-06   91.646378\n",
       "2023-04-10   91.506920\n",
       "...                ...\n",
       "2024-03-22  136.589996\n",
       "2024-03-25  135.899994\n",
       "2024-03-26  135.210007\n",
       "2024-03-27  135.339996\n",
       "2024-03-28  135.059998\n",
       "\n",
       "[249 rows x 1 columns]"
      ]
     },
     "execution_count": 28,
     "metadata": {},
     "output_type": "execute_result"
    }
   ],
   "source": [
    "# get the data for iShares US Technology ETF\n",
    "iyt_data = get_historical_data(\"IYW\", \"2023-04-01\", \"2024-04-01\")\n",
    "iyt_data"
   ]
  },
  {
   "cell_type": "code",
   "execution_count": 29,
   "metadata": {},
   "outputs": [
    {
     "name": "stdout",
     "output_type": "stream",
     "text": [
      "[*********************100%%**********************]  1 of 1 completed\n"
     ]
    },
    {
     "data": {
      "text/html": [
       "<div>\n",
       "<style scoped>\n",
       "    .dataframe tbody tr th:only-of-type {\n",
       "        vertical-align: middle;\n",
       "    }\n",
       "\n",
       "    .dataframe tbody tr th {\n",
       "        vertical-align: top;\n",
       "    }\n",
       "\n",
       "    .dataframe thead th {\n",
       "        text-align: right;\n",
       "    }\n",
       "</style>\n",
       "<table border=\"1\" class=\"dataframe\">\n",
       "  <thead>\n",
       "    <tr style=\"text-align: right;\">\n",
       "      <th></th>\n",
       "      <th>Adj Close</th>\n",
       "    </tr>\n",
       "    <tr>\n",
       "      <th>Date</th>\n",
       "      <th></th>\n",
       "    </tr>\n",
       "  </thead>\n",
       "  <tbody>\n",
       "    <tr>\n",
       "      <th>2023-04-03</th>\n",
       "      <td>143.788406</td>\n",
       "    </tr>\n",
       "    <tr>\n",
       "      <th>2023-04-04</th>\n",
       "      <td>141.107254</td>\n",
       "    </tr>\n",
       "    <tr>\n",
       "      <th>2023-04-05</th>\n",
       "      <td>138.660934</td>\n",
       "    </tr>\n",
       "    <tr>\n",
       "      <th>2023-04-06</th>\n",
       "      <td>137.946579</td>\n",
       "    </tr>\n",
       "    <tr>\n",
       "      <th>2023-04-10</th>\n",
       "      <td>140.383133</td>\n",
       "    </tr>\n",
       "    <tr>\n",
       "      <th>...</th>\n",
       "      <td>...</td>\n",
       "    </tr>\n",
       "    <tr>\n",
       "      <th>2024-03-22</th>\n",
       "      <td>225.449997</td>\n",
       "    </tr>\n",
       "    <tr>\n",
       "      <th>2024-03-25</th>\n",
       "      <td>224.570007</td>\n",
       "    </tr>\n",
       "    <tr>\n",
       "      <th>2024-03-26</th>\n",
       "      <td>222.880005</td>\n",
       "    </tr>\n",
       "    <tr>\n",
       "      <th>2024-03-27</th>\n",
       "      <td>225.679993</td>\n",
       "    </tr>\n",
       "    <tr>\n",
       "      <th>2024-03-28</th>\n",
       "      <td>225.919998</td>\n",
       "    </tr>\n",
       "  </tbody>\n",
       "</table>\n",
       "<p>249 rows × 1 columns</p>\n",
       "</div>"
      ],
      "text/plain": [
       "             Adj Close\n",
       "Date                  \n",
       "2023-04-03  143.788406\n",
       "2023-04-04  141.107254\n",
       "2023-04-05  138.660934\n",
       "2023-04-06  137.946579\n",
       "2023-04-10  140.383133\n",
       "...                ...\n",
       "2024-03-22  225.449997\n",
       "2024-03-25  224.570007\n",
       "2024-03-26  222.880005\n",
       "2024-03-27  225.679993\n",
       "2024-03-28  225.919998\n",
       "\n",
       "[249 rows x 1 columns]"
      ]
     },
     "execution_count": 29,
     "metadata": {},
     "output_type": "execute_result"
    }
   ],
   "source": [
    "# get the data for iShares Semiconductor ETF\n",
    "soxx_data = get_historical_data(\"SOXX\", \"2023-04-01\", \"2024-04-01\")\n",
    "soxx_data"
   ]
  },
  {
   "cell_type": "code",
   "execution_count": 32,
   "metadata": {},
   "outputs": [
    {
     "name": "stdout",
     "output_type": "stream",
     "text": [
      "Adj Close    0\n",
      "dtype: int64\n",
      "Adj Close    0\n",
      "dtype: int64\n",
      "Adj Close    0\n",
      "dtype: int64\n",
      "Adj Close    0\n",
      "dtype: int64\n",
      "Adj Close    0\n",
      "dtype: int64\n",
      "Adj Close    0\n",
      "dtype: int64\n"
     ]
    }
   ],
   "source": [
    "# check for any missing data\n",
    "print(market_index_data.isnull().sum())\n",
    "print(vgt_data.isnull().sum())\n",
    "print(xlk_data.isnull().sum())\n",
    "print(smh_data.isnull().sum())\n",
    "print(iyt_data.isnull().sum())\n",
    "print(soxx_data.isnull().sum())"
   ]
  },
  {
   "cell_type": "code",
   "execution_count": 66,
   "metadata": {},
   "outputs": [],
   "source": [
    "# since, there is no missing data, we can go to the next step\n",
    "# find simple return over the entire year\n",
    "# Rt(k) = (Pt(k) - Pt(k-1)) / Pt(k-1)\n",
    "# Rt(k) = (1 + Rt) * (1 + Rt-1) * ... * (1 + R1) - 1\n",
    "def calculate_simple_return(data):\n",
    "    data['simple_return'] = data['Adj Close'].pct_change()\n",
    "    data['simple_return'] = data['simple_return'].fillna(0)\n",
    "    data['simple_return'] = data['simple_return'] + 1\n",
    "    data['simple_return'] = data['simple_return'].cumprod() - 1\n",
    "    \n",
    "    return data.iloc[-1]['simple_return']"
   ]
  },
  {
   "cell_type": "code",
   "execution_count": 85,
   "metadata": {},
   "outputs": [],
   "source": [
    "market_index_data_return = calculate_simple_return(market_index_data)\n",
    "vgt_data_return = calculate_simple_return(vgt_data)\n",
    "xlk_data_return = calculate_simple_return(xlk_data)\n",
    "smh_data_return = calculate_simple_return(smh_data)\n",
    "iyt_data_return = calculate_simple_return(iyt_data)\n",
    "soxx_data_return = calculate_simple_return(soxx_data)\n",
    "\n",
    "equity_etf_returns = {\n",
    "    \"VGT\": vgt_data_return,\n",
    "    \"XLK\": xlk_data_return,\n",
    "    \"SMH\": smh_data_return,\n",
    "    \"IYT\": iyt_data_return,\n",
    "    \"SOXX\": soxx_data_return\n",
    "}\n",
    "stock_returns_list = [vgt_data_return, xlk_data_return, smh_data_return, iyt_data_return, soxx_data_return]"
   ]
  },
  {
   "cell_type": "code",
   "execution_count": 86,
   "metadata": {},
   "outputs": [
    {
     "data": {
      "text/html": [
       "<div>\n",
       "<style scoped>\n",
       "    .dataframe tbody tr th:only-of-type {\n",
       "        vertical-align: middle;\n",
       "    }\n",
       "\n",
       "    .dataframe tbody tr th {\n",
       "        vertical-align: top;\n",
       "    }\n",
       "\n",
       "    .dataframe thead th {\n",
       "        text-align: right;\n",
       "    }\n",
       "</style>\n",
       "<table border=\"1\" class=\"dataframe\">\n",
       "  <thead>\n",
       "    <tr style=\"text-align: right;\">\n",
       "      <th></th>\n",
       "      <th>VGT</th>\n",
       "      <th>XLK</th>\n",
       "      <th>SMH</th>\n",
       "      <th>IYT</th>\n",
       "      <th>SOXX</th>\n",
       "    </tr>\n",
       "  </thead>\n",
       "  <tbody>\n",
       "    <tr>\n",
       "      <th>VGT</th>\n",
       "      <td>0.013222</td>\n",
       "      <td>0.014098</td>\n",
       "      <td>0.023890</td>\n",
       "      <td>0.015862</td>\n",
       "      <td>0.019918</td>\n",
       "    </tr>\n",
       "    <tr>\n",
       "      <th>XLK</th>\n",
       "      <td>0.014098</td>\n",
       "      <td>0.015095</td>\n",
       "      <td>0.025403</td>\n",
       "      <td>0.016997</td>\n",
       "      <td>0.021127</td>\n",
       "    </tr>\n",
       "    <tr>\n",
       "      <th>SMH</th>\n",
       "      <td>0.023890</td>\n",
       "      <td>0.025403</td>\n",
       "      <td>0.045854</td>\n",
       "      <td>0.028700</td>\n",
       "      <td>0.037523</td>\n",
       "    </tr>\n",
       "    <tr>\n",
       "      <th>IYT</th>\n",
       "      <td>0.015862</td>\n",
       "      <td>0.016997</td>\n",
       "      <td>0.028700</td>\n",
       "      <td>0.019211</td>\n",
       "      <td>0.023821</td>\n",
       "    </tr>\n",
       "    <tr>\n",
       "      <th>SOXX</th>\n",
       "      <td>0.019918</td>\n",
       "      <td>0.021127</td>\n",
       "      <td>0.037523</td>\n",
       "      <td>0.023821</td>\n",
       "      <td>0.031127</td>\n",
       "    </tr>\n",
       "  </tbody>\n",
       "</table>\n",
       "</div>"
      ],
      "text/plain": [
       "           VGT       XLK       SMH       IYT      SOXX\n",
       "VGT   0.013222  0.014098  0.023890  0.015862  0.019918\n",
       "XLK   0.014098  0.015095  0.025403  0.016997  0.021127\n",
       "SMH   0.023890  0.025403  0.045854  0.028700  0.037523\n",
       "IYT   0.015862  0.016997  0.028700  0.019211  0.023821\n",
       "SOXX  0.019918  0.021127  0.037523  0.023821  0.031127"
      ]
     },
     "execution_count": 86,
     "metadata": {},
     "output_type": "execute_result"
    }
   ],
   "source": [
    "# find the variance-covriance matrix of the returns\n",
    "# create a dataframe with the returns of all the ETFs\n",
    "# calculate the variance-covariance matrix\n",
    "returns_df = pd.DataFrame([vgt_data['simple_return'], xlk_data['simple_return'], smh_data['simple_return'], iyt_data['simple_return'], soxx_data['simple_return']]).T\n",
    "returns_df.columns = [\"VGT\", \"XLK\", \"SMH\", \"IYT\", \"SOXX\"]\n",
    "\n",
    "cov_matrix = returns_df.cov()\n",
    "cov_matrix"
   ]
  },
  {
   "cell_type": "markdown",
   "metadata": {},
   "source": [
    "## Optimal tangency portfolio using Markowitz model "
   ]
  },
  {
   "cell_type": "code",
   "execution_count": 87,
   "metadata": {},
   "outputs": [],
   "source": [
    "# Run the Markowitz Portfolio Optimization\n",
    "markowitz = MarkowitzOptimization(stock_returns_list, cov_matrix, risk_free_rate)\n"
   ]
  },
  {
   "cell_type": "code",
   "execution_count": 98,
   "metadata": {},
   "outputs": [],
   "source": [
    "# find the weights of the portfolio with short shelling\n",
    "weights_short_selling = markowitz.find_tangency_portfolio_with_short_selling()"
   ]
  },
  {
   "cell_type": "code",
   "execution_count": 100,
   "metadata": {},
   "outputs": [
    {
     "data": {
      "text/plain": [
       "{'VGT': -23.869302700943805,\n",
       " 'XLK': 51.088280294463736,\n",
       " 'SMH': -7.105883412559809,\n",
       " 'IYT': -29.257905768751492,\n",
       " 'SOXX': 10.144811587791368}"
      ]
     },
     "execution_count": 100,
     "metadata": {},
     "output_type": "execute_result"
    }
   ],
   "source": [
    "# create the wieghts dictionary\n",
    "weights_with_ss_dict_pct = {\n",
    "    \"VGT\": weights_short_selling[0],\n",
    "    \"XLK\": weights_short_selling[1],\n",
    "    \"SMH\": weights_short_selling[2],\n",
    "    \"IYT\": weights_short_selling[3],\n",
    "    \"SOXX\": weights_short_selling[4]\n",
    "}\n",
    "weights_with_ss_dict_pct"
   ]
  },
  {
   "cell_type": "code",
   "execution_count": 101,
   "metadata": {},
   "outputs": [
    {
     "data": {
      "text/plain": [
       "array([9.14610696e-17, 0.00000000e+00, 1.00000000e+00, 0.00000000e+00,\n",
       "       0.00000000e+00])"
      ]
     },
     "execution_count": 101,
     "metadata": {},
     "output_type": "execute_result"
    }
   ],
   "source": [
    "# find the weights of the portfolio without short shelling\n",
    "weights_no_short_selling = markowitz.find_tangency_portfolio_no_short_selling()\n",
    "weights_no_short_selling"
   ]
  },
  {
   "cell_type": "code",
   "execution_count": 103,
   "metadata": {},
   "outputs": [
    {
     "data": {
      "text/plain": [
       "array([9.14610696e-17, 0.00000000e+00, 1.00000000e+00, 0.00000000e+00,\n",
       "       0.00000000e+00])"
      ]
     },
     "execution_count": 103,
     "metadata": {},
     "output_type": "execute_result"
    }
   ],
   "source": [
    "# weights dictionary\n",
    "weights_no_ss_dict_pct = {\n",
    "    \"VGT\": weights_no_short_selling[0],\n",
    "    \"XLK\": weights_no_short_selling[1],\n",
    "    \"SMH\": weights_no_short_selling[2],\n",
    "    \"IYT\": weights_no_short_selling[3],\n",
    "    \"SOXX\": weights_no_short_selling[4]\n",
    "}\n",
    "weights_no_short_selling"
   ]
  },
  {
   "cell_type": "code",
   "execution_count": 104,
   "metadata": {},
   "outputs": [],
   "source": [
    "# find the expected return and volatility of the portfolio with short selling\n",
    "def calculate_portfolio_return_and_volatility(weights, returns):\n",
    "    expected_return = np.dot(weights, returns)\n",
    "    volatility = np.sqrt(np.dot(weights.T, np.dot(cov_matrix, weights)))\n",
    "    \n",
    "    return expected_return, volatility"
   ]
  },
  {
   "cell_type": "code",
   "execution_count": 107,
   "metadata": {},
   "outputs": [
    {
     "name": "stdout",
     "output_type": "stream",
     "text": [
      "Expected Return with Short Selling in %:  -173.64724444116658\n",
      "Volatility with Short Selling in %:  38.88882525436394\n"
     ]
    }
   ],
   "source": [
    "expected_return_with_ss, volatility_with_ss = calculate_portfolio_return_and_volatility(weights_short_selling, stock_returns_list)\n",
    "print(\"Expected Return with Short Selling in %: \", expected_return_with_ss * 100)\n",
    "print(\"Volatility with Short Selling in %: \", volatility_with_ss * 100)"
   ]
  },
  {
   "cell_type": "code",
   "execution_count": 108,
   "metadata": {},
   "outputs": [
    {
     "name": "stdout",
     "output_type": "stream",
     "text": [
      "Expected Return without Short Selling in %:  72.98801691288277\n",
      "Volatility without Short Selling in %:  21.413575710491575\n"
     ]
    }
   ],
   "source": [
    "expected_return_without_ss, volatility_without_ss = calculate_portfolio_return_and_volatility(weights_no_short_selling, stock_returns_list)\n",
    "print(\"Expected Return without Short Selling in %: \", expected_return_without_ss * 100)\n",
    "print(\"Volatility without Short Selling in %: \", volatility_without_ss * 100)"
   ]
  },
  {
   "cell_type": "code",
   "execution_count": 121,
   "metadata": {},
   "outputs": [
    {
     "data": {
      "text/plain": [
       "3.165516014731111"
      ]
     },
     "execution_count": 121,
     "metadata": {},
     "output_type": "execute_result"
    }
   ],
   "source": [
    "# calculate the Sharpe Ratio\n",
    "sharpe_ratio_without_ss = (expected_return_without_ss - risk_free_rate) / volatility_without_ss\n",
    "sharpe_ratio_without_ss"
   ]
  },
  {
   "cell_type": "markdown",
   "metadata": {},
   "source": [
    "From the results above, it seems like short selling in ETF stocks is not worth it. When not allowing short selling, the entire portfolio is invested in SMH. However, this is not a good strategy as it is not diversified. For portfolio with no short selling, we will add another constraint that the weight of each stock should be at max 30%. This will ensure that the portfolio is diversified."
   ]
  },
  {
   "cell_type": "code",
   "execution_count": 117,
   "metadata": {},
   "outputs": [
    {
     "data": {
      "text/plain": [
       "array([0.1, 0. , 0.3, 0.3, 0.3])"
      ]
     },
     "execution_count": 117,
     "metadata": {},
     "output_type": "execute_result"
    }
   ],
   "source": [
    "weights_no_short_selling_with_constraint = markowitz.find_tangency_portfolio_no_short_selling_and_max_weight(0.3)\n",
    "weights_no_short_selling_with_constraint"
   ]
  },
  {
   "cell_type": "code",
   "execution_count": 119,
   "metadata": {},
   "outputs": [
    {
     "data": {
      "text/plain": [
       "{'VGT': 0.09999999999999999,\n",
       " 'XLK': 0.0,\n",
       " 'SMH': 0.30000000000000027,\n",
       " 'IYT': 0.3,\n",
       " 'SOXX': 0.29999999999999993}"
      ]
     },
     "execution_count": 119,
     "metadata": {},
     "output_type": "execute_result"
    }
   ],
   "source": [
    "weights_dict_with_constraint = {\n",
    "    \"VGT\": weights_no_short_selling_with_constraint[0],\n",
    "    \"XLK\": weights_no_short_selling_with_constraint[1],\n",
    "    \"SMH\": weights_no_short_selling_with_constraint[2],\n",
    "    \"IYT\": weights_no_short_selling_with_constraint[3],\n",
    "    \"SOXX\": weights_no_short_selling_with_constraint[4]\n",
    "}\n",
    "weights_dict_with_constraint"
   ]
  },
  {
   "cell_type": "code",
   "execution_count": 118,
   "metadata": {},
   "outputs": [
    {
     "name": "stdout",
     "output_type": "stream",
     "text": [
      "Expected Return with Short Selling and Constraint in %:  56.607759060399744\n",
      "Volatility with Short Selling and Constraint in %:  16.904883234084636\n"
     ]
    }
   ],
   "source": [
    "expected_return_with_ss_with_constraint, volatility_with_ss_with_constraint = calculate_portfolio_return_and_volatility(weights_no_short_selling_with_constraint, stock_returns_list)\n",
    "print(\"Expected Return with Short Selling and Constraint in %: \", expected_return_with_ss_with_constraint * 100)\n",
    "print(\"Volatility with Short Selling and Constraint in %: \", volatility_with_ss_with_constraint * 100)"
   ]
  },
  {
   "cell_type": "code",
   "execution_count": 120,
   "metadata": {},
   "outputs": [
    {
     "data": {
      "text/plain": [
       "3.0408230734235326"
      ]
     },
     "execution_count": 120,
     "metadata": {},
     "output_type": "execute_result"
    }
   ],
   "source": [
    "# find the Sharpe Ratio\n",
    "sharpe_no_ss_with_constraint = (expected_return_with_ss_with_constraint - risk_free_rate) / volatility_with_ss_with_constraint\n",
    "sharpe_no_ss_with_constraint"
   ]
  },
  {
   "cell_type": "markdown",
   "metadata": {},
   "source": [
    "After adding a constraint that each stock can have maximum of 30% weight, the portfolio is diversified. The portfolio is invested in VGT, SMH, IVT and SOXX with 10%, 30%, 30% and 30% weight respectively. The return on this portfolio is 56.61% with a risk of 16.90%. We see that the sharpe ratio by 0.12 to 3.04 when no short selling is allowed under weight constraint of 30%."
   ]
  },
  {
   "cell_type": "markdown",
   "metadata": {},
   "source": []
  }
 ],
 "metadata": {
  "kernelspec": {
   "display_name": "stock_analysis",
   "language": "python",
   "name": "python3"
  },
  "language_info": {
   "codemirror_mode": {
    "name": "ipython",
    "version": 3
   },
   "file_extension": ".py",
   "mimetype": "text/x-python",
   "name": "python",
   "nbconvert_exporter": "python",
   "pygments_lexer": "ipython3",
   "version": "3.11.5"
  }
 },
 "nbformat": 4,
 "nbformat_minor": 2
}
